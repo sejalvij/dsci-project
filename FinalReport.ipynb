{
 "cells": [
  {
   "cell_type": "markdown",
   "metadata": {},
   "source": [
    "**Can we predict the average exam score for a student through standardized or reduced lunches?**"
   ]
  },
  {
   "cell_type": "code",
   "execution_count": 28,
   "metadata": {},
   "outputs": [],
   "source": [
    "library(repr)\n",
    "library(tidyverse)\n",
    "library(tidymodels)\n",
    "library(dplyr)"
   ]
  },
  {
   "cell_type": "markdown",
   "metadata": {},
   "source": [
    "**Note:** Reduced lunches are nutritionally balanced, low-cost, or free lunches given to students in the United States with a family income that is below 185 percent of the Federal poverty line. (www.ers.usda.gov)"
   ]
  },
  {
   "cell_type": "code",
   "execution_count": 29,
   "metadata": {},
   "outputs": [
    {
     "name": "stderr",
     "output_type": "stream",
     "text": [
      "Parsed with column specification:\n",
      "cols(\n",
      "  gender = \u001b[31mcol_character()\u001b[39m,\n",
      "  `race/ethnicity` = \u001b[31mcol_character()\u001b[39m,\n",
      "  `parental level of education` = \u001b[31mcol_character()\u001b[39m,\n",
      "  lunch = \u001b[31mcol_character()\u001b[39m,\n",
      "  `test preparation course` = \u001b[31mcol_character()\u001b[39m,\n",
      "  `math score` = \u001b[32mcol_double()\u001b[39m,\n",
      "  `reading score` = \u001b[32mcol_double()\u001b[39m,\n",
      "  `writing score` = \u001b[32mcol_double()\u001b[39m\n",
      ")\n",
      "\n"
     ]
    }
   ],
   "source": [
    "#demonstrate the dataset can be read from the web into R\n",
    "grades <-read_csv(\"StudentsPerformance.csv\")\n",
    "\n",
    "set.seed(1)\n",
    "colnames(grades) <- make.names(colnames(grades))"
   ]
  },
  {
   "cell_type": "code",
   "execution_count": 35,
   "metadata": {},
   "outputs": [
    {
     "name": "stdout",
     "output_type": "stream",
     "text": [
      "Rows: 1,000\n",
      "Columns: 8\n",
      "$ gender                      \u001b[3m\u001b[90m<chr>\u001b[39m\u001b[23m \"female\", \"female\", \"female\", \"male\", \"ma…\n",
      "$ race.ethnicity              \u001b[3m\u001b[90m<chr>\u001b[39m\u001b[23m \"group B\", \"group C\", \"group B\", \"group A…\n",
      "$ parental.level.of.education \u001b[3m\u001b[90m<chr>\u001b[39m\u001b[23m \"bachelor's degree\", \"some college\", \"mas…\n",
      "$ lunch                       \u001b[3m\u001b[90m<fct>\u001b[39m\u001b[23m standard, standard, standard, free/reduce…\n",
      "$ test.preparation.course     \u001b[3m\u001b[90m<chr>\u001b[39m\u001b[23m \"none\", \"completed\", \"none\", \"none\", \"non…\n",
      "$ math.score                  \u001b[3m\u001b[90m<dbl>\u001b[39m\u001b[23m 72, 69, 90, 47, 76, 71, 88, 40, 64, 38, 5…\n",
      "$ reading.score               \u001b[3m\u001b[90m<dbl>\u001b[39m\u001b[23m 72, 90, 95, 57, 78, 83, 95, 43, 64, 60, 5…\n",
      "$ writing.score               \u001b[3m\u001b[90m<dbl>\u001b[39m\u001b[23m 74, 88, 93, 44, 75, 78, 92, 39, 67, 50, 5…\n"
     ]
    },
    {
     "data": {
      "text/html": [
       "<style>\n",
       ".list-inline {list-style: none; margin:0; padding: 0}\n",
       ".list-inline>li {display: inline-block}\n",
       ".list-inline>li:not(:last-child)::after {content: \"\\00b7\"; padding: 0 .5ex}\n",
       "</style>\n",
       "<ol class=list-inline><li>'standard'</li><li>'free/reduced'</li></ol>\n"
      ],
      "text/latex": [
       "\\begin{enumerate*}\n",
       "\\item 'standard'\n",
       "\\item 'free/reduced'\n",
       "\\end{enumerate*}\n"
      ],
      "text/markdown": [
       "1. 'standard'\n",
       "2. 'free/reduced'\n",
       "\n",
       "\n"
      ],
      "text/plain": [
       "[1] \"standard\"     \"free/reduced\""
      ]
     },
     "metadata": {},
     "output_type": "display_data"
    },
    {
     "name": "stderr",
     "output_type": "stream",
     "text": [
      "`summarise()` ungrouping output (override with `.groups` argument)\n",
      "\n"
     ]
    },
    {
     "data": {
      "text/html": [
       "<table>\n",
       "<caption>A tibble: 2 × 3</caption>\n",
       "<thead>\n",
       "\t<tr><th scope=col>lunch</th><th scope=col>count</th><th scope=col>percentage</th></tr>\n",
       "\t<tr><th scope=col>&lt;chr&gt;</th><th scope=col>&lt;int&gt;</th><th scope=col>&lt;dbl&gt;</th></tr>\n",
       "</thead>\n",
       "<tbody>\n",
       "\t<tr><td>free/reduced</td><td>355</td><td>35.5</td></tr>\n",
       "\t<tr><td>standard    </td><td>645</td><td>64.5</td></tr>\n",
       "</tbody>\n",
       "</table>\n"
      ],
      "text/latex": [
       "A tibble: 2 × 3\n",
       "\\begin{tabular}{lll}\n",
       " lunch & count & percentage\\\\\n",
       " <chr> & <int> & <dbl>\\\\\n",
       "\\hline\n",
       "\t free/reduced & 355 & 35.5\\\\\n",
       "\t standard     & 645 & 64.5\\\\\n",
       "\\end{tabular}\n"
      ],
      "text/markdown": [
       "\n",
       "A tibble: 2 × 3\n",
       "\n",
       "| lunch &lt;chr&gt; | count &lt;int&gt; | percentage &lt;dbl&gt; |\n",
       "|---|---|---|\n",
       "| free/reduced | 355 | 35.5 |\n",
       "| standard     | 645 | 64.5 |\n",
       "\n"
      ],
      "text/plain": [
       "  lunch        count percentage\n",
       "1 free/reduced 355   35.5      \n",
       "2 standard     645   64.5      "
      ]
     },
     "metadata": {},
     "output_type": "display_data"
    }
   ],
   "source": [
    "#changing Lunch to as factor <fct>\n",
    "fct_lunch = grades %>% \n",
    "    mutate(lunch = as_factor(lunch))\n",
    "glimpse(fct_lunch)\n",
    "\n",
    "#returning each categroy in the column\n",
    "stu_pull = fct_lunch %>%\n",
    "    pull(lunch) %>%\n",
    "    levels()\n",
    "stu_pull\n",
    "\n",
    "#creates a chart that shows the variables with counts and percentages \n",
    "grades_obs = nrow(grades)\n",
    "    grades %>%\n",
    "    group_by(lunch) %>% \n",
    "    summarize(\n",
    "        count = n(),\n",
    "        percentage = n() / grades_obs * 100 )"
   ]
  },
  {
   "cell_type": "markdown",
   "metadata": {},
   "source": [
    "**Summary of the data:** We have 1,000 rows in this data set, and we are focusing on if we are able to make an accurate prediction on student grades based on their _test preparation_, _parental level of education_, the _average score based on math_, _reading_, and _writing_, with _lunch being the factor_. There are two categories that the students may be under, _standardized lunches_ or _free/reduced lunches_. The table above displays the lunch distribution with percentage, and shows that more students have standardized lunches. This will be accounted for in the prediction analysis below (centering and standardizng)."
   ]
  },
  {
   "cell_type": "code",
   "execution_count": 37,
   "metadata": {},
   "outputs": [
    {
     "name": "stderr",
     "output_type": "stream",
     "text": [
      "`summarise()` ungrouping output (override with `.groups` argument)\n",
      "\n"
     ]
    },
    {
     "data": {
      "text/html": [
       "<table>\n",
       "<caption>A tibble: 5 × 2</caption>\n",
       "<thead>\n",
       "\t<tr><th scope=col>letter_grade</th><th scope=col>number_obs_per_class</th></tr>\n",
       "\t<tr><th scope=col>&lt;fct&gt;</th><th scope=col>&lt;int&gt;</th></tr>\n",
       "</thead>\n",
       "<tbody>\n",
       "\t<tr><td>fail</td><td> 36</td></tr>\n",
       "\t<tr><td>D   </td><td> 67</td></tr>\n",
       "\t<tr><td>C   </td><td>127</td></tr>\n",
       "\t<tr><td>B   </td><td>140</td></tr>\n",
       "\t<tr><td>A   </td><td>116</td></tr>\n",
       "</tbody>\n",
       "</table>\n"
      ],
      "text/latex": [
       "A tibble: 5 × 2\n",
       "\\begin{tabular}{ll}\n",
       " letter\\_grade & number\\_obs\\_per\\_class\\\\\n",
       " <fct> & <int>\\\\\n",
       "\\hline\n",
       "\t fail &  36\\\\\n",
       "\t D    &  67\\\\\n",
       "\t C    & 127\\\\\n",
       "\t B    & 140\\\\\n",
       "\t A    & 116\\\\\n",
       "\\end{tabular}\n"
      ],
      "text/markdown": [
       "\n",
       "A tibble: 5 × 2\n",
       "\n",
       "| letter_grade &lt;fct&gt; | number_obs_per_class &lt;int&gt; |\n",
       "|---|---|\n",
       "| fail |  36 |\n",
       "| D    |  67 |\n",
       "| C    | 127 |\n",
       "| B    | 140 |\n",
       "| A    | 116 |\n",
       "\n"
      ],
      "text/plain": [
       "  letter_grade number_obs_per_class\n",
       "1 fail          36                 \n",
       "2 D             67                 \n",
       "3 C            127                 \n",
       "4 B            140                 \n",
       "5 A            116                 "
      ]
     },
     "metadata": {},
     "output_type": "display_data"
    },
    {
     "data": {
      "image/png": "[encoded data removed]",
      "text/plain": [
       "plot without title"
      ]
     },
     "metadata": {
      "image/png": {
       "height": 420,
       "width": 420
      }
     },
     "output_type": "display_data"
    }
   ],
   "source": [
    "#splitting the data into 75% training\n",
    "grades_split<- initial_split(grades_new_standard, prop=0.75, strata = letter_grade)\n",
    "grades_train <- training(grades_split)\n",
    "grades_test <- testing(grades_split)\n",
    "\n",
    "#for standard lunches\n",
    "grades_selected_standard_lunch <- grades %>%\n",
    "    select (lunch, test.preparation.course, parental.level.of.education, math.score, reading.score, writing.score) %>%\n",
    "    filter (lunch == \"standard\")\n",
    "\n",
    "#adding average grades for standard lunch\n",
    "grades_new_standard <- grades_selected_standard_lunch %>%\n",
    "    mutate (average.score = (math.score + reading.score + writing.score)/3) %>%\n",
    "    mutate(letter_grade =cut(average.score, breaks = c(0,50,60,70,80,100), labels =c(\"fail\", \"D\", \"C\", \"B\", \"A\")))%>%\n",
    "    mutate (letter_grade = as_factor(letter_grade))\n",
    "\n",
    "#using only training data summarize the data into one table \n",
    "\n",
    "grades_train_table <- grades_train %>%\n",
    "        select(letter_grade)%>%\n",
    "        group_by (letter_grade) %>%\n",
    "        summarize (number_obs_per_class = n())\n",
    "\n",
    "grades_train_table\n",
    "\n",
    "#visualizing training data\n",
    "grades_bar <- ggplot(grades_train_table, \n",
    "                      aes(x = letter_grade,\n",
    "                          y = number_obs_per_class,\n",
    "                         fill = letter_grade)) +\n",
    "  geom_bar(stat = \"identity\") +\n",
    "  labs(x = \"Letter Grade Or Fail\", y = \"Number of Observations Per Class\", fill = \"Grade or Fail\") +\n",
    "  theme(text = element_text(size =12))\n",
    "\n",
    "grades_bar"
   ]
  },
  {
   "cell_type": "code",
   "execution_count": null,
   "metadata": {},
   "outputs": [],
   "source": []
  },
  {
   "cell_type": "code",
   "execution_count": null,
   "metadata": {},
   "outputs": [],
   "source": []
  },
  {
   "cell_type": "code",
   "execution_count": null,
   "metadata": {},
   "outputs": [],
   "source": []
  },
  {
   "cell_type": "code",
   "execution_count": null,
   "metadata": {},
   "outputs": [],
   "source": []
  }
 ],
 "metadata": {
  "kernelspec": {
   "display_name": "R",
   "language": "R",
   "name": "ir"
  },
  "language_info": {
   "codemirror_mode": "r",
   "file_extension": ".r",
   "mimetype": "text/x-r-source",
   "name": "R",
   "pygments_lexer": "r",
   "version": "4.0.0"
  }
 },
 "nbformat": 4,
 "nbformat_minor": 4
}
